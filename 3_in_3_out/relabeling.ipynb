{
 "cells": [
  {
   "cell_type": "code",
   "execution_count": 3,
   "id": "a98375e3-ebbe-42e7-a64c-b16a6299a4f8",
   "metadata": {},
   "outputs": [
    {
     "ename": "ModuleNotFoundError",
     "evalue": "No module named 'pandas'",
     "output_type": "error",
     "traceback": [
      "\u001b[1;31m---------------------------------------------------------------------------\u001b[0m",
      "\u001b[1;31mModuleNotFoundError\u001b[0m                       Traceback (most recent call last)",
      "Cell \u001b[1;32mIn[3], line 1\u001b[0m\n\u001b[1;32m----> 1\u001b[0m \u001b[39mimport\u001b[39;00m \u001b[39mpandas\u001b[39;00m \u001b[39mas\u001b[39;00m \u001b[39mpd\u001b[39;00m\n",
      "\u001b[1;31mModuleNotFoundError\u001b[0m: No module named 'pandas'"
     ]
    }
   ],
   "source": [
    "import pandas as pd"
   ]
  },
  {
   "cell_type": "code",
   "execution_count": null,
   "id": "b0e4e86c",
   "metadata": {},
   "outputs": [],
   "source": [
    "base_root = \"D:/archivos_locales/TFG/datasets/tracknetV2_padel/\""
   ]
  },
  {
   "cell_type": "code",
   "execution_count": null,
   "id": "8ef78fa6-ddf4-41a5-aefd-416b5d64ec55",
   "metadata": {},
   "outputs": [],
   "source": [
    "label_df = pd.read_csv(base_root + \"test/1/Label.csv\")"
   ]
  },
  {
   "cell_type": "code",
   "execution_count": null,
   "id": "04a56bfd-121b-4c70-ba85-be9b718a6de0",
   "metadata": {},
   "outputs": [],
   "source": [
    "# Create a copy of the dataframe\n",
    "new_label_df = label_df\n",
    "\n",
    "# Rename columns\n",
    "new_label_df.rename(columns = {'file name':'Frame', 'visibility':'Visibility', 'x-coordinate':'X', 'y-coordinate':'Y', 'status':'Status'}, inplace = True)"
   ]
  },
  {
   "cell_type": "code",
   "execution_count": null,
   "id": "5636df39-c545-4c1b-85f2-09c7ae92162d",
   "metadata": {},
   "outputs": [],
   "source": [
    "# Delete .jpg extension from file name column\n",
    "new_label_df['Frame'] = new_label_df['Frame'].astype(str).str[:-4]"
   ]
  },
  {
   "cell_type": "code",
   "execution_count": null,
   "id": "43b712bc-8503-4f10-9b36-9f0d0ba0e5b8",
   "metadata": {},
   "outputs": [],
   "source": [
    "# Change states (0-> no ball, 1->frying, 2->hit, 3->bouncing at ground, 4-> bouncing at wall)\n",
    "new_label_df.loc[new_label_df[\"Status\"] == 2, \"Status\"] = 3\n",
    "new_label_df.loc[new_label_df[\"Status\"] == 1, \"Status\"] = 2\n",
    "new_label_df.loc[new_label_df[\"Status\"] == 0, \"Status\"] = 1\n",
    "new_label_df[\"Status\"].fillna(0, inplace=True)\n",
    "\n",
    "# Create new state (bouncing at the wall)\n",
    "new_label_df.loc[new_label_df[\"Visibility\"] == 2, \"Status\"] = 4\n",
    "\n",
    "# Recover original visibility\n",
    "new_label_df.loc[new_label_df[\"Visibility\"] == 2, \"Visibility\"] = 1\n",
    "\n",
    "# For vsibility = 0, take 0 as X and Y\n",
    "new_label_df[\"X\"].fillna(0, inplace=True)\n",
    "new_label_df[\"Y\"].fillna(0, inplace=True)\n",
    "\n",
    "# Create new parameter (Occluded)\n",
    "new_label_df[\"Occluded\"] = 0\n",
    "\n",
    "# Move occluded status to the new parameter\n",
    "new_label_df.loc[new_label_df[\"Visibility\"] == 3, \"Occluded\"] = 1\n",
    "new_label_df.loc[new_label_df[\"Visibility\"] == 3, \"Visibility\"] = 1 # Set 0 if we dont want to predict where is a occluded ball and change X and Y values to 0\n",
    "#new_label_df.loc[new_label_df[\"Visibility\"] == 0, \"X\"] = 0\n",
    "#new_label_df.loc[new_label_df[\"Visibility\"] == 0, \"Y\"] = 0"
   ]
  },
  {
   "cell_type": "code",
   "execution_count": null,
   "id": "6e10a2d2-7434-47eb-93f0-c25051ed9133",
   "metadata": {},
   "outputs": [
    {
     "data": {
      "text/html": [
       "<div>\n",
       "<style scoped>\n",
       "    .dataframe tbody tr th:only-of-type {\n",
       "        vertical-align: middle;\n",
       "    }\n",
       "\n",
       "    .dataframe tbody tr th {\n",
       "        vertical-align: top;\n",
       "    }\n",
       "\n",
       "    .dataframe thead th {\n",
       "        text-align: right;\n",
       "    }\n",
       "</style>\n",
       "<table border=\"1\" class=\"dataframe\">\n",
       "  <thead>\n",
       "    <tr style=\"text-align: right;\">\n",
       "      <th></th>\n",
       "      <th>Frame</th>\n",
       "      <th>Visibility</th>\n",
       "      <th>X</th>\n",
       "      <th>Y</th>\n",
       "      <th>Status</th>\n",
       "      <th>Occluded</th>\n",
       "    </tr>\n",
       "  </thead>\n",
       "  <tbody>\n",
       "    <tr>\n",
       "      <th>185</th>\n",
       "      <td>185</td>\n",
       "      <td>1</td>\n",
       "      <td>241.0</td>\n",
       "      <td>388.0</td>\n",
       "      <td>4.0</td>\n",
       "      <td>0</td>\n",
       "    </tr>\n",
       "  </tbody>\n",
       "</table>\n",
       "</div>"
      ],
      "text/plain": [
       "    Frame  Visibility      X      Y  Status  Occluded\n",
       "185   185           1  241.0  388.0     4.0         0"
      ]
     },
     "execution_count": 93,
     "metadata": {},
     "output_type": "execute_result"
    }
   ],
   "source": [
    "new_label_df[new_label_df[\"Status\"]==4]"
   ]
  },
  {
   "cell_type": "code",
   "execution_count": null,
   "id": "6ea21a02-f503-4290-8a6c-7e533741a11b",
   "metadata": {},
   "outputs": [],
   "source": [
    "# Save the file with all the columns (future purposes)\n",
    "new_label_df.to_csv(base_root + \"test/1/FullLabel2.csv\", index = False)\n",
    "\n",
    "# Save the file\n",
    "new_label_df = new_label_df.drop(\"Status\", axis=1)\n",
    "new_label_df = new_label_df.drop(\"Occluded\", axis=1)\n",
    "new_label_df.to_csv(base_root + \"test/1/TNLabel2.csv\", index = False)"
   ]
  },
  {
   "cell_type": "code",
   "execution_count": null,
   "id": "dd847982-8982-46ee-b7e9-e9c3284df62a",
   "metadata": {},
   "outputs": [],
   "source": []
  }
 ],
 "metadata": {
  "kernelspec": {
   "display_name": "Python 3",
   "language": "python",
   "name": "python3"
  },
  "language_info": {
   "codemirror_mode": {
    "name": "ipython",
    "version": 3
   },
   "file_extension": ".py",
   "mimetype": "text/x-python",
   "name": "python",
   "nbconvert_exporter": "python",
   "pygments_lexer": "ipython3",
   "version": "3.10.3"
  },
  "vscode": {
   "interpreter": {
    "hash": "3e6eaf00392b0cb8b5a646d3515e821c15d6342d64f11192f7e7dc8c1b273a06"
   }
  }
 },
 "nbformat": 4,
 "nbformat_minor": 5
}
